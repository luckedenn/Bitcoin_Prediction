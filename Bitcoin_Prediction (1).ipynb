{
  "nbformat": 4,
  "nbformat_minor": 0,
  "metadata": {
    "colab": {
      "provenance": []
    },
    "kernelspec": {
      "name": "python3",
      "display_name": "Python 3"
    },
    "language_info": {
      "name": "python"
    }
  },
  "cells": [
    {
      "cell_type": "markdown",
      "source": [
        "# Import Library"
      ],
      "metadata": {
        "id": "nA8BO0xOU1ya"
      }
    },
    {
      "cell_type": "code",
      "execution_count": null,
      "metadata": {
        "id": "vLAUVziZUylu"
      },
      "outputs": [],
      "source": [
        "import numpy as np\n",
        "import pandas as pd\n",
        "import matplotlib.pyplot as plt\n",
        "from sklearn.preprocessing import MinMaxScaler\n",
        "from sklearn.metrics import mean_absolute_error, mean_squared_error, r2_score\n",
        "from keras.models import Sequential\n",
        "from keras.layers import LSTM, Dense\n",
        "from keras.callbacks import EarlyStopping"
      ]
    },
    {
      "cell_type": "markdown",
      "source": [
        "# Load Dataset"
      ],
      "metadata": {
        "id": "0cPtLCNJVC_e"
      }
    },
    {
      "cell_type": "markdown",
      "source": [
        "Untuk mengambil dataset dari kaggle kita harus uploud kaggle.json terlebih dahulu"
      ],
      "metadata": {
        "id": "Tg4xg-UZ_MU5"
      }
    },
    {
      "cell_type": "code",
      "source": [
        "from google.colab import files\n",
        "files.upload()  # upload kaggle.json"
      ],
      "metadata": {
        "colab": {
          "base_uri": "https://localhost:8080/",
          "height": 91
        },
        "id": "G3MIDY-KVBuC",
        "outputId": "05ddd75c-fc81-4e4b-b080-d7e3cf0c0566"
      },
      "execution_count": null,
      "outputs": [
        {
          "output_type": "display_data",
          "data": {
            "text/plain": [
              "<IPython.core.display.HTML object>"
            ],
            "text/html": [
              "\n",
              "     <input type=\"file\" id=\"files-1af8620e-62fa-474d-b97e-e09ca4a4fa77\" name=\"files[]\" multiple disabled\n",
              "        style=\"border:none\" />\n",
              "     <output id=\"result-1af8620e-62fa-474d-b97e-e09ca4a4fa77\">\n",
              "      Upload widget is only available when the cell has been executed in the\n",
              "      current browser session. Please rerun this cell to enable.\n",
              "      </output>\n",
              "      <script>// Copyright 2017 Google LLC\n",
              "//\n",
              "// Licensed under the Apache License, Version 2.0 (the \"License\");\n",
              "// you may not use this file except in compliance with the License.\n",
              "// You may obtain a copy of the License at\n",
              "//\n",
              "//      http://www.apache.org/licenses/LICENSE-2.0\n",
              "//\n",
              "// Unless required by applicable law or agreed to in writing, software\n",
              "// distributed under the License is distributed on an \"AS IS\" BASIS,\n",
              "// WITHOUT WARRANTIES OR CONDITIONS OF ANY KIND, either express or implied.\n",
              "// See the License for the specific language governing permissions and\n",
              "// limitations under the License.\n",
              "\n",
              "/**\n",
              " * @fileoverview Helpers for google.colab Python module.\n",
              " */\n",
              "(function(scope) {\n",
              "function span(text, styleAttributes = {}) {\n",
              "  const element = document.createElement('span');\n",
              "  element.textContent = text;\n",
              "  for (const key of Object.keys(styleAttributes)) {\n",
              "    element.style[key] = styleAttributes[key];\n",
              "  }\n",
              "  return element;\n",
              "}\n",
              "\n",
              "// Max number of bytes which will be uploaded at a time.\n",
              "const MAX_PAYLOAD_SIZE = 100 * 1024;\n",
              "\n",
              "function _uploadFiles(inputId, outputId) {\n",
              "  const steps = uploadFilesStep(inputId, outputId);\n",
              "  const outputElement = document.getElementById(outputId);\n",
              "  // Cache steps on the outputElement to make it available for the next call\n",
              "  // to uploadFilesContinue from Python.\n",
              "  outputElement.steps = steps;\n",
              "\n",
              "  return _uploadFilesContinue(outputId);\n",
              "}\n",
              "\n",
              "// This is roughly an async generator (not supported in the browser yet),\n",
              "// where there are multiple asynchronous steps and the Python side is going\n",
              "// to poll for completion of each step.\n",
              "// This uses a Promise to block the python side on completion of each step,\n",
              "// then passes the result of the previous step as the input to the next step.\n",
              "function _uploadFilesContinue(outputId) {\n",
              "  const outputElement = document.getElementById(outputId);\n",
              "  const steps = outputElement.steps;\n",
              "\n",
              "  const next = steps.next(outputElement.lastPromiseValue);\n",
              "  return Promise.resolve(next.value.promise).then((value) => {\n",
              "    // Cache the last promise value to make it available to the next\n",
              "    // step of the generator.\n",
              "    outputElement.lastPromiseValue = value;\n",
              "    return next.value.response;\n",
              "  });\n",
              "}\n",
              "\n",
              "/**\n",
              " * Generator function which is called between each async step of the upload\n",
              " * process.\n",
              " * @param {string} inputId Element ID of the input file picker element.\n",
              " * @param {string} outputId Element ID of the output display.\n",
              " * @return {!Iterable<!Object>} Iterable of next steps.\n",
              " */\n",
              "function* uploadFilesStep(inputId, outputId) {\n",
              "  const inputElement = document.getElementById(inputId);\n",
              "  inputElement.disabled = false;\n",
              "\n",
              "  const outputElement = document.getElementById(outputId);\n",
              "  outputElement.innerHTML = '';\n",
              "\n",
              "  const pickedPromise = new Promise((resolve) => {\n",
              "    inputElement.addEventListener('change', (e) => {\n",
              "      resolve(e.target.files);\n",
              "    });\n",
              "  });\n",
              "\n",
              "  const cancel = document.createElement('button');\n",
              "  inputElement.parentElement.appendChild(cancel);\n",
              "  cancel.textContent = 'Cancel upload';\n",
              "  const cancelPromise = new Promise((resolve) => {\n",
              "    cancel.onclick = () => {\n",
              "      resolve(null);\n",
              "    };\n",
              "  });\n",
              "\n",
              "  // Wait for the user to pick the files.\n",
              "  const files = yield {\n",
              "    promise: Promise.race([pickedPromise, cancelPromise]),\n",
              "    response: {\n",
              "      action: 'starting',\n",
              "    }\n",
              "  };\n",
              "\n",
              "  cancel.remove();\n",
              "\n",
              "  // Disable the input element since further picks are not allowed.\n",
              "  inputElement.disabled = true;\n",
              "\n",
              "  if (!files) {\n",
              "    return {\n",
              "      response: {\n",
              "        action: 'complete',\n",
              "      }\n",
              "    };\n",
              "  }\n",
              "\n",
              "  for (const file of files) {\n",
              "    const li = document.createElement('li');\n",
              "    li.append(span(file.name, {fontWeight: 'bold'}));\n",
              "    li.append(span(\n",
              "        `(${file.type || 'n/a'}) - ${file.size} bytes, ` +\n",
              "        `last modified: ${\n",
              "            file.lastModifiedDate ? file.lastModifiedDate.toLocaleDateString() :\n",
              "                                    'n/a'} - `));\n",
              "    const percent = span('0% done');\n",
              "    li.appendChild(percent);\n",
              "\n",
              "    outputElement.appendChild(li);\n",
              "\n",
              "    const fileDataPromise = new Promise((resolve) => {\n",
              "      const reader = new FileReader();\n",
              "      reader.onload = (e) => {\n",
              "        resolve(e.target.result);\n",
              "      };\n",
              "      reader.readAsArrayBuffer(file);\n",
              "    });\n",
              "    // Wait for the data to be ready.\n",
              "    let fileData = yield {\n",
              "      promise: fileDataPromise,\n",
              "      response: {\n",
              "        action: 'continue',\n",
              "      }\n",
              "    };\n",
              "\n",
              "    // Use a chunked sending to avoid message size limits. See b/62115660.\n",
              "    let position = 0;\n",
              "    do {\n",
              "      const length = Math.min(fileData.byteLength - position, MAX_PAYLOAD_SIZE);\n",
              "      const chunk = new Uint8Array(fileData, position, length);\n",
              "      position += length;\n",
              "\n",
              "      const base64 = btoa(String.fromCharCode.apply(null, chunk));\n",
              "      yield {\n",
              "        response: {\n",
              "          action: 'append',\n",
              "          file: file.name,\n",
              "          data: base64,\n",
              "        },\n",
              "      };\n",
              "\n",
              "      let percentDone = fileData.byteLength === 0 ?\n",
              "          100 :\n",
              "          Math.round((position / fileData.byteLength) * 100);\n",
              "      percent.textContent = `${percentDone}% done`;\n",
              "\n",
              "    } while (position < fileData.byteLength);\n",
              "  }\n",
              "\n",
              "  // All done.\n",
              "  yield {\n",
              "    response: {\n",
              "      action: 'complete',\n",
              "    }\n",
              "  };\n",
              "}\n",
              "\n",
              "scope.google = scope.google || {};\n",
              "scope.google.colab = scope.google.colab || {};\n",
              "scope.google.colab._files = {\n",
              "  _uploadFiles,\n",
              "  _uploadFilesContinue,\n",
              "};\n",
              "})(self);\n",
              "</script> "
            ]
          },
          "metadata": {}
        },
        {
          "output_type": "stream",
          "name": "stdout",
          "text": [
            "Saving kaggle.json to kaggle.json\n"
          ]
        },
        {
          "output_type": "execute_result",
          "data": {
            "text/plain": [
              "{'kaggle.json': b'{\"username\":\"lucascha\",\"key\":\"6ee5fce662be883e09df2bfb406e4795\"}'}"
            ]
          },
          "metadata": {},
          "execution_count": 2
        }
      ]
    },
    {
      "cell_type": "markdown",
      "source": [
        "Pada tahap ini, dilakukan konfigurasi awal agar dapat mengunduh dataset langsung dari Kaggle menggunakan API. File `kaggle.json` berisi **API credentials (username dan key)** yang digunakan untuk mengautentikasi akun Kaggle pengguna."
      ],
      "metadata": {
        "id": "HHsNvkvuAY6j"
      }
    },
    {
      "cell_type": "code",
      "source": [
        "!mkdir -p ~/.kaggle\n",
        "!cp kaggle.json ~/.kaggle/\n",
        "!chmod 600 ~/.kaggle/kaggle.json"
      ],
      "metadata": {
        "id": "BHAm023WVOeP"
      },
      "execution_count": null,
      "outputs": []
    },
    {
      "cell_type": "markdown",
      "source": [
        "Karena ketika download format datasetnya masi dalam zip kita lakukan unzip datasetnya"
      ],
      "metadata": {
        "id": "QibcsI84_ds6"
      }
    },
    {
      "cell_type": "code",
      "source": [
        "# Download Bitcoin dataset\n",
        "!kaggle datasets download -d mczielinski/bitcoin-historical-data\n",
        "!unzip -o bitcoin-historical-data.zip"
      ],
      "metadata": {
        "colab": {
          "base_uri": "https://localhost:8080/"
        },
        "id": "gQ896CheVR5H",
        "outputId": "1e39e9e7-857a-4f11-a92a-f51319ae28fd"
      },
      "execution_count": null,
      "outputs": [
        {
          "output_type": "stream",
          "name": "stdout",
          "text": [
            "Dataset URL: https://www.kaggle.com/datasets/mczielinski/bitcoin-historical-data\n",
            "License(s): CC-BY-SA-4.0\n",
            "Downloading bitcoin-historical-data.zip to /content\n",
            " 85% 80.0M/93.9M [00:00<00:00, 831MB/s]\n",
            "100% 93.9M/93.9M [00:00<00:00, 754MB/s]\n",
            "Archive:  bitcoin-historical-data.zip\n",
            "  inflating: btcusd_1-min_data.csv   \n"
          ]
        }
      ]
    },
    {
      "cell_type": "markdown",
      "source": [
        "Pada tahap ini, dataset harga historis Bitcoin dimuat ke dalam notebook menggunakan pandas. Data ini terdiri dari kolom seperti Timestamp, Open, High, Low, Close, dan Volume."
      ],
      "metadata": {
        "id": "dUg2CT2V_cPP"
      }
    },
    {
      "cell_type": "code",
      "source": [
        "df = pd.read_csv('btcusd_1-min_data.csv')\n",
        "df.head()"
      ],
      "metadata": {
        "colab": {
          "base_uri": "https://localhost:8080/",
          "height": 206
        },
        "id": "JStaW3KRXnIN",
        "outputId": "96412f37-00ac-4705-9c54-65922841eca4"
      },
      "execution_count": null,
      "outputs": [
        {
          "output_type": "execute_result",
          "data": {
            "text/plain": [
              "      Timestamp  Open  High   Low  Close  Volume\n",
              "0  1.325412e+09  4.58  4.58  4.58   4.58     0.0\n",
              "1  1.325412e+09  4.58  4.58  4.58   4.58     0.0\n",
              "2  1.325412e+09  4.58  4.58  4.58   4.58     0.0\n",
              "3  1.325412e+09  4.58  4.58  4.58   4.58     0.0\n",
              "4  1.325412e+09  4.58  4.58  4.58   4.58     0.0"
            ],
            "text/html": [
              "\n",
              "  <div id=\"df-c5a4fd1b-b59f-4d67-9b08-659aa5dbb777\" class=\"colab-df-container\">\n",
              "    <div>\n",
              "<style scoped>\n",
              "    .dataframe tbody tr th:only-of-type {\n",
              "        vertical-align: middle;\n",
              "    }\n",
              "\n",
              "    .dataframe tbody tr th {\n",
              "        vertical-align: top;\n",
              "    }\n",
              "\n",
              "    .dataframe thead th {\n",
              "        text-align: right;\n",
              "    }\n",
              "</style>\n",
              "<table border=\"1\" class=\"dataframe\">\n",
              "  <thead>\n",
              "    <tr style=\"text-align: right;\">\n",
              "      <th></th>\n",
              "      <th>Timestamp</th>\n",
              "      <th>Open</th>\n",
              "      <th>High</th>\n",
              "      <th>Low</th>\n",
              "      <th>Close</th>\n",
              "      <th>Volume</th>\n",
              "    </tr>\n",
              "  </thead>\n",
              "  <tbody>\n",
              "    <tr>\n",
              "      <th>0</th>\n",
              "      <td>1.325412e+09</td>\n",
              "      <td>4.58</td>\n",
              "      <td>4.58</td>\n",
              "      <td>4.58</td>\n",
              "      <td>4.58</td>\n",
              "      <td>0.0</td>\n",
              "    </tr>\n",
              "    <tr>\n",
              "      <th>1</th>\n",
              "      <td>1.325412e+09</td>\n",
              "      <td>4.58</td>\n",
              "      <td>4.58</td>\n",
              "      <td>4.58</td>\n",
              "      <td>4.58</td>\n",
              "      <td>0.0</td>\n",
              "    </tr>\n",
              "    <tr>\n",
              "      <th>2</th>\n",
              "      <td>1.325412e+09</td>\n",
              "      <td>4.58</td>\n",
              "      <td>4.58</td>\n",
              "      <td>4.58</td>\n",
              "      <td>4.58</td>\n",
              "      <td>0.0</td>\n",
              "    </tr>\n",
              "    <tr>\n",
              "      <th>3</th>\n",
              "      <td>1.325412e+09</td>\n",
              "      <td>4.58</td>\n",
              "      <td>4.58</td>\n",
              "      <td>4.58</td>\n",
              "      <td>4.58</td>\n",
              "      <td>0.0</td>\n",
              "    </tr>\n",
              "    <tr>\n",
              "      <th>4</th>\n",
              "      <td>1.325412e+09</td>\n",
              "      <td>4.58</td>\n",
              "      <td>4.58</td>\n",
              "      <td>4.58</td>\n",
              "      <td>4.58</td>\n",
              "      <td>0.0</td>\n",
              "    </tr>\n",
              "  </tbody>\n",
              "</table>\n",
              "</div>\n",
              "    <div class=\"colab-df-buttons\">\n",
              "\n",
              "  <div class=\"colab-df-container\">\n",
              "    <button class=\"colab-df-convert\" onclick=\"convertToInteractive('df-c5a4fd1b-b59f-4d67-9b08-659aa5dbb777')\"\n",
              "            title=\"Convert this dataframe to an interactive table.\"\n",
              "            style=\"display:none;\">\n",
              "\n",
              "  <svg xmlns=\"http://www.w3.org/2000/svg\" height=\"24px\" viewBox=\"0 -960 960 960\">\n",
              "    <path d=\"M120-120v-720h720v720H120Zm60-500h600v-160H180v160Zm220 220h160v-160H400v160Zm0 220h160v-160H400v160ZM180-400h160v-160H180v160Zm440 0h160v-160H620v160ZM180-180h160v-160H180v160Zm440 0h160v-160H620v160Z\"/>\n",
              "  </svg>\n",
              "    </button>\n",
              "\n",
              "  <style>\n",
              "    .colab-df-container {\n",
              "      display:flex;\n",
              "      gap: 12px;\n",
              "    }\n",
              "\n",
              "    .colab-df-convert {\n",
              "      background-color: #E8F0FE;\n",
              "      border: none;\n",
              "      border-radius: 50%;\n",
              "      cursor: pointer;\n",
              "      display: none;\n",
              "      fill: #1967D2;\n",
              "      height: 32px;\n",
              "      padding: 0 0 0 0;\n",
              "      width: 32px;\n",
              "    }\n",
              "\n",
              "    .colab-df-convert:hover {\n",
              "      background-color: #E2EBFA;\n",
              "      box-shadow: 0px 1px 2px rgba(60, 64, 67, 0.3), 0px 1px 3px 1px rgba(60, 64, 67, 0.15);\n",
              "      fill: #174EA6;\n",
              "    }\n",
              "\n",
              "    .colab-df-buttons div {\n",
              "      margin-bottom: 4px;\n",
              "    }\n",
              "\n",
              "    [theme=dark] .colab-df-convert {\n",
              "      background-color: #3B4455;\n",
              "      fill: #D2E3FC;\n",
              "    }\n",
              "\n",
              "    [theme=dark] .colab-df-convert:hover {\n",
              "      background-color: #434B5C;\n",
              "      box-shadow: 0px 1px 3px 1px rgba(0, 0, 0, 0.15);\n",
              "      filter: drop-shadow(0px 1px 2px rgba(0, 0, 0, 0.3));\n",
              "      fill: #FFFFFF;\n",
              "    }\n",
              "  </style>\n",
              "\n",
              "    <script>\n",
              "      const buttonEl =\n",
              "        document.querySelector('#df-c5a4fd1b-b59f-4d67-9b08-659aa5dbb777 button.colab-df-convert');\n",
              "      buttonEl.style.display =\n",
              "        google.colab.kernel.accessAllowed ? 'block' : 'none';\n",
              "\n",
              "      async function convertToInteractive(key) {\n",
              "        const element = document.querySelector('#df-c5a4fd1b-b59f-4d67-9b08-659aa5dbb777');\n",
              "        const dataTable =\n",
              "          await google.colab.kernel.invokeFunction('convertToInteractive',\n",
              "                                                    [key], {});\n",
              "        if (!dataTable) return;\n",
              "\n",
              "        const docLinkHtml = 'Like what you see? Visit the ' +\n",
              "          '<a target=\"_blank\" href=https://colab.research.google.com/notebooks/data_table.ipynb>data table notebook</a>'\n",
              "          + ' to learn more about interactive tables.';\n",
              "        element.innerHTML = '';\n",
              "        dataTable['output_type'] = 'display_data';\n",
              "        await google.colab.output.renderOutput(dataTable, element);\n",
              "        const docLink = document.createElement('div');\n",
              "        docLink.innerHTML = docLinkHtml;\n",
              "        element.appendChild(docLink);\n",
              "      }\n",
              "    </script>\n",
              "  </div>\n",
              "\n",
              "\n",
              "    <div id=\"df-2c323ec2-a1f1-4152-b626-726403ed0f53\">\n",
              "      <button class=\"colab-df-quickchart\" onclick=\"quickchart('df-2c323ec2-a1f1-4152-b626-726403ed0f53')\"\n",
              "                title=\"Suggest charts\"\n",
              "                style=\"display:none;\">\n",
              "\n",
              "<svg xmlns=\"http://www.w3.org/2000/svg\" height=\"24px\"viewBox=\"0 0 24 24\"\n",
              "     width=\"24px\">\n",
              "    <g>\n",
              "        <path d=\"M19 3H5c-1.1 0-2 .9-2 2v14c0 1.1.9 2 2 2h14c1.1 0 2-.9 2-2V5c0-1.1-.9-2-2-2zM9 17H7v-7h2v7zm4 0h-2V7h2v10zm4 0h-2v-4h2v4z\"/>\n",
              "    </g>\n",
              "</svg>\n",
              "      </button>\n",
              "\n",
              "<style>\n",
              "  .colab-df-quickchart {\n",
              "      --bg-color: #E8F0FE;\n",
              "      --fill-color: #1967D2;\n",
              "      --hover-bg-color: #E2EBFA;\n",
              "      --hover-fill-color: #174EA6;\n",
              "      --disabled-fill-color: #AAA;\n",
              "      --disabled-bg-color: #DDD;\n",
              "  }\n",
              "\n",
              "  [theme=dark] .colab-df-quickchart {\n",
              "      --bg-color: #3B4455;\n",
              "      --fill-color: #D2E3FC;\n",
              "      --hover-bg-color: #434B5C;\n",
              "      --hover-fill-color: #FFFFFF;\n",
              "      --disabled-bg-color: #3B4455;\n",
              "      --disabled-fill-color: #666;\n",
              "  }\n",
              "\n",
              "  .colab-df-quickchart {\n",
              "    background-color: var(--bg-color);\n",
              "    border: none;\n",
              "    border-radius: 50%;\n",
              "    cursor: pointer;\n",
              "    display: none;\n",
              "    fill: var(--fill-color);\n",
              "    height: 32px;\n",
              "    padding: 0;\n",
              "    width: 32px;\n",
              "  }\n",
              "\n",
              "  .colab-df-quickchart:hover {\n",
              "    background-color: var(--hover-bg-color);\n",
              "    box-shadow: 0 1px 2px rgba(60, 64, 67, 0.3), 0 1px 3px 1px rgba(60, 64, 67, 0.15);\n",
              "    fill: var(--button-hover-fill-color);\n",
              "  }\n",
              "\n",
              "  .colab-df-quickchart-complete:disabled,\n",
              "  .colab-df-quickchart-complete:disabled:hover {\n",
              "    background-color: var(--disabled-bg-color);\n",
              "    fill: var(--disabled-fill-color);\n",
              "    box-shadow: none;\n",
              "  }\n",
              "\n",
              "  .colab-df-spinner {\n",
              "    border: 2px solid var(--fill-color);\n",
              "    border-color: transparent;\n",
              "    border-bottom-color: var(--fill-color);\n",
              "    animation:\n",
              "      spin 1s steps(1) infinite;\n",
              "  }\n",
              "\n",
              "  @keyframes spin {\n",
              "    0% {\n",
              "      border-color: transparent;\n",
              "      border-bottom-color: var(--fill-color);\n",
              "      border-left-color: var(--fill-color);\n",
              "    }\n",
              "    20% {\n",
              "      border-color: transparent;\n",
              "      border-left-color: var(--fill-color);\n",
              "      border-top-color: var(--fill-color);\n",
              "    }\n",
              "    30% {\n",
              "      border-color: transparent;\n",
              "      border-left-color: var(--fill-color);\n",
              "      border-top-color: var(--fill-color);\n",
              "      border-right-color: var(--fill-color);\n",
              "    }\n",
              "    40% {\n",
              "      border-color: transparent;\n",
              "      border-right-color: var(--fill-color);\n",
              "      border-top-color: var(--fill-color);\n",
              "    }\n",
              "    60% {\n",
              "      border-color: transparent;\n",
              "      border-right-color: var(--fill-color);\n",
              "    }\n",
              "    80% {\n",
              "      border-color: transparent;\n",
              "      border-right-color: var(--fill-color);\n",
              "      border-bottom-color: var(--fill-color);\n",
              "    }\n",
              "    90% {\n",
              "      border-color: transparent;\n",
              "      border-bottom-color: var(--fill-color);\n",
              "    }\n",
              "  }\n",
              "</style>\n",
              "\n",
              "      <script>\n",
              "        async function quickchart(key) {\n",
              "          const quickchartButtonEl =\n",
              "            document.querySelector('#' + key + ' button');\n",
              "          quickchartButtonEl.disabled = true;  // To prevent multiple clicks.\n",
              "          quickchartButtonEl.classList.add('colab-df-spinner');\n",
              "          try {\n",
              "            const charts = await google.colab.kernel.invokeFunction(\n",
              "                'suggestCharts', [key], {});\n",
              "          } catch (error) {\n",
              "            console.error('Error during call to suggestCharts:', error);\n",
              "          }\n",
              "          quickchartButtonEl.classList.remove('colab-df-spinner');\n",
              "          quickchartButtonEl.classList.add('colab-df-quickchart-complete');\n",
              "        }\n",
              "        (() => {\n",
              "          let quickchartButtonEl =\n",
              "            document.querySelector('#df-2c323ec2-a1f1-4152-b626-726403ed0f53 button');\n",
              "          quickchartButtonEl.style.display =\n",
              "            google.colab.kernel.accessAllowed ? 'block' : 'none';\n",
              "        })();\n",
              "      </script>\n",
              "    </div>\n",
              "\n",
              "    </div>\n",
              "  </div>\n"
            ],
            "application/vnd.google.colaboratory.intrinsic+json": {
              "type": "dataframe",
              "variable_name": "df"
            }
          },
          "metadata": {},
          "execution_count": 36
        }
      ]
    },
    {
      "cell_type": "markdown",
      "source": [
        "#  Exploratory Data Analysis (EDA)"
      ],
      "metadata": {
        "id": "ap3EGtwWX_aW"
      }
    },
    {
      "cell_type": "code",
      "source": [
        "# Lihat ukuran dari dataset\n",
        "print(df.shape)"
      ],
      "metadata": {
        "colab": {
          "base_uri": "https://localhost:8080/"
        },
        "id": "NQuNoChju3hx",
        "outputId": "1895d5d3-207b-46d9-aef8-5fda7e2dcd49"
      },
      "execution_count": null,
      "outputs": [
        {
          "output_type": "stream",
          "name": "stdout",
          "text": [
            "(7032685, 6)\n"
          ]
        }
      ]
    },
    {
      "cell_type": "markdown",
      "source": [
        "- Tahap ini Digunakan untuk mengetahui jumlah baris dan kolom dalam dataset. Hasil `(7032685, 6)` menunjukkan ada 7 juta lebih data dengan 6 fitur.\n"
      ],
      "metadata": {
        "id": "A45VFPY7BCxi"
      }
    },
    {
      "cell_type": "code",
      "source": [
        "# Melihat Info data\n",
        "print(df.info())"
      ],
      "metadata": {
        "colab": {
          "base_uri": "https://localhost:8080/"
        },
        "id": "t429ReHIu9i9",
        "outputId": "edc480cd-7901-46b9-e25e-ba415f00649f"
      },
      "execution_count": null,
      "outputs": [
        {
          "output_type": "stream",
          "name": "stdout",
          "text": [
            "<class 'pandas.core.frame.DataFrame'>\n",
            "RangeIndex: 7032685 entries, 0 to 7032684\n",
            "Data columns (total 6 columns):\n",
            " #   Column     Dtype  \n",
            "---  ------     -----  \n",
            " 0   Timestamp  float64\n",
            " 1   Open       float64\n",
            " 2   High       float64\n",
            " 3   Low        float64\n",
            " 4   Close      float64\n",
            " 5   Volume     float64\n",
            "dtypes: float64(6)\n",
            "memory usage: 321.9 MB\n",
            "None\n"
          ]
        }
      ]
    },
    {
      "cell_type": "markdown",
      "source": [
        "- Pada tahap Digunakan untuk menampilkan tipe data tiap kolom, jumlah entri, dan penggunaan memori. Hasil menunjukkan semua kolom bertipe `float64` dan total entri sebanyak 7.032.685 baris."
      ],
      "metadata": {
        "id": "BirRpoSsBUl0"
      }
    },
    {
      "cell_type": "code",
      "source": [
        "# Tampilkan nilai null\n",
        "print(\"\\nCek nilai kosong:\")\n",
        "print(df.isnull().sum())"
      ],
      "metadata": {
        "colab": {
          "base_uri": "https://localhost:8080/"
        },
        "id": "QEgmPNWxYFJ7",
        "outputId": "ecc102c6-6c3b-4eb8-bdfc-86fd6e8dcdb5"
      },
      "execution_count": null,
      "outputs": [
        {
          "output_type": "stream",
          "name": "stdout",
          "text": [
            "\n",
            "Cek nilai kosong:\n",
            "Timestamp    0\n",
            "Open         0\n",
            "High         0\n",
            "Low          0\n",
            "Close        0\n",
            "Volume       0\n",
            "dtype: int64\n"
          ]
        }
      ]
    },
    {
      "cell_type": "markdown",
      "source": [
        "- Langkah ini dilakukan untuk memastikan tidak ada data yang hilang pada setiap kolom. Hasilnya menunjukkan bahwa seluruh kolom tidak memiliki nilai kosong (null)."
      ],
      "metadata": {
        "id": "h1wLmmTxBjqO"
      }
    },
    {
      "cell_type": "code",
      "source": [
        "# Tampilkan deskripsi data\n",
        "print(\"Statistik deskriptif:\")\n",
        "df.describe()"
      ],
      "metadata": {
        "colab": {
          "base_uri": "https://localhost:8080/",
          "height": 318
        },
        "id": "jd-vN7VvYNpU",
        "outputId": "04707d16-4a71-4457-a69c-4458f180e122"
      },
      "execution_count": null,
      "outputs": [
        {
          "output_type": "stream",
          "name": "stdout",
          "text": [
            "Statistik deskriptif:\n"
          ]
        },
        {
          "output_type": "execute_result",
          "data": {
            "text/plain": [
              "          Timestamp          Open          High           Low         Close  \\\n",
              "count  7.032685e+06  7.032685e+06  7.032685e+06  7.032685e+06  7.032685e+06   \n",
              "mean   1.536393e+09  1.766028e+04  1.766726e+04  1.765308e+04  1.766028e+04   \n",
              "std    1.218112e+08  2.445830e+04  2.446626e+04  2.445012e+04  2.445826e+04   \n",
              "min    1.325412e+09  3.800000e+00  3.800000e+00  3.800000e+00  3.800000e+00   \n",
              "25%    1.430902e+09  4.254800e+02  4.256600e+02  4.252600e+02  4.254800e+02   \n",
              "50%    1.536393e+09  6.630760e+03  6.634980e+03  6.626990e+03  6.630660e+03   \n",
              "75%    1.641883e+09  2.755000e+04  2.755500e+04  2.754400e+04  2.755000e+04   \n",
              "max    1.747443e+09  1.091110e+05  1.093560e+05  1.087940e+05  1.090360e+05   \n",
              "\n",
              "             Volume  \n",
              "count  7.032685e+06  \n",
              "mean   5.288158e+00  \n",
              "std    2.248684e+01  \n",
              "min    0.000000e+00  \n",
              "25%    1.810000e-02  \n",
              "50%    4.653573e-01  \n",
              "75%    3.022468e+00  \n",
              "max    5.853852e+03  "
            ],
            "text/html": [
              "\n",
              "  <div id=\"df-0566e0a2-e16e-4c45-991f-6bbc70c3416e\" class=\"colab-df-container\">\n",
              "    <div>\n",
              "<style scoped>\n",
              "    .dataframe tbody tr th:only-of-type {\n",
              "        vertical-align: middle;\n",
              "    }\n",
              "\n",
              "    .dataframe tbody tr th {\n",
              "        vertical-align: top;\n",
              "    }\n",
              "\n",
              "    .dataframe thead th {\n",
              "        text-align: right;\n",
              "    }\n",
              "</style>\n",
              "<table border=\"1\" class=\"dataframe\">\n",
              "  <thead>\n",
              "    <tr style=\"text-align: right;\">\n",
              "      <th></th>\n",
              "      <th>Timestamp</th>\n",
              "      <th>Open</th>\n",
              "      <th>High</th>\n",
              "      <th>Low</th>\n",
              "      <th>Close</th>\n",
              "      <th>Volume</th>\n",
              "    </tr>\n",
              "  </thead>\n",
              "  <tbody>\n",
              "    <tr>\n",
              "      <th>count</th>\n",
              "      <td>7.032685e+06</td>\n",
              "      <td>7.032685e+06</td>\n",
              "      <td>7.032685e+06</td>\n",
              "      <td>7.032685e+06</td>\n",
              "      <td>7.032685e+06</td>\n",
              "      <td>7.032685e+06</td>\n",
              "    </tr>\n",
              "    <tr>\n",
              "      <th>mean</th>\n",
              "      <td>1.536393e+09</td>\n",
              "      <td>1.766028e+04</td>\n",
              "      <td>1.766726e+04</td>\n",
              "      <td>1.765308e+04</td>\n",
              "      <td>1.766028e+04</td>\n",
              "      <td>5.288158e+00</td>\n",
              "    </tr>\n",
              "    <tr>\n",
              "      <th>std</th>\n",
              "      <td>1.218112e+08</td>\n",
              "      <td>2.445830e+04</td>\n",
              "      <td>2.446626e+04</td>\n",
              "      <td>2.445012e+04</td>\n",
              "      <td>2.445826e+04</td>\n",
              "      <td>2.248684e+01</td>\n",
              "    </tr>\n",
              "    <tr>\n",
              "      <th>min</th>\n",
              "      <td>1.325412e+09</td>\n",
              "      <td>3.800000e+00</td>\n",
              "      <td>3.800000e+00</td>\n",
              "      <td>3.800000e+00</td>\n",
              "      <td>3.800000e+00</td>\n",
              "      <td>0.000000e+00</td>\n",
              "    </tr>\n",
              "    <tr>\n",
              "      <th>25%</th>\n",
              "      <td>1.430902e+09</td>\n",
              "      <td>4.254800e+02</td>\n",
              "      <td>4.256600e+02</td>\n",
              "      <td>4.252600e+02</td>\n",
              "      <td>4.254800e+02</td>\n",
              "      <td>1.810000e-02</td>\n",
              "    </tr>\n",
              "    <tr>\n",
              "      <th>50%</th>\n",
              "      <td>1.536393e+09</td>\n",
              "      <td>6.630760e+03</td>\n",
              "      <td>6.634980e+03</td>\n",
              "      <td>6.626990e+03</td>\n",
              "      <td>6.630660e+03</td>\n",
              "      <td>4.653573e-01</td>\n",
              "    </tr>\n",
              "    <tr>\n",
              "      <th>75%</th>\n",
              "      <td>1.641883e+09</td>\n",
              "      <td>2.755000e+04</td>\n",
              "      <td>2.755500e+04</td>\n",
              "      <td>2.754400e+04</td>\n",
              "      <td>2.755000e+04</td>\n",
              "      <td>3.022468e+00</td>\n",
              "    </tr>\n",
              "    <tr>\n",
              "      <th>max</th>\n",
              "      <td>1.747443e+09</td>\n",
              "      <td>1.091110e+05</td>\n",
              "      <td>1.093560e+05</td>\n",
              "      <td>1.087940e+05</td>\n",
              "      <td>1.090360e+05</td>\n",
              "      <td>5.853852e+03</td>\n",
              "    </tr>\n",
              "  </tbody>\n",
              "</table>\n",
              "</div>\n",
              "    <div class=\"colab-df-buttons\">\n",
              "\n",
              "  <div class=\"colab-df-container\">\n",
              "    <button class=\"colab-df-convert\" onclick=\"convertToInteractive('df-0566e0a2-e16e-4c45-991f-6bbc70c3416e')\"\n",
              "            title=\"Convert this dataframe to an interactive table.\"\n",
              "            style=\"display:none;\">\n",
              "\n",
              "  <svg xmlns=\"http://www.w3.org/2000/svg\" height=\"24px\" viewBox=\"0 -960 960 960\">\n",
              "    <path d=\"M120-120v-720h720v720H120Zm60-500h600v-160H180v160Zm220 220h160v-160H400v160Zm0 220h160v-160H400v160ZM180-400h160v-160H180v160Zm440 0h160v-160H620v160ZM180-180h160v-160H180v160Zm440 0h160v-160H620v160Z\"/>\n",
              "  </svg>\n",
              "    </button>\n",
              "\n",
              "  <style>\n",
              "    .colab-df-container {\n",
              "      display:flex;\n",
              "      gap: 12px;\n",
              "    }\n",
              "\n",
              "    .colab-df-convert {\n",
              "      background-color: #E8F0FE;\n",
              "      border: none;\n",
              "      border-radius: 50%;\n",
              "      cursor: pointer;\n",
              "      display: none;\n",
              "      fill: #1967D2;\n",
              "      height: 32px;\n",
              "      padding: 0 0 0 0;\n",
              "      width: 32px;\n",
              "    }\n",
              "\n",
              "    .colab-df-convert:hover {\n",
              "      background-color: #E2EBFA;\n",
              "      box-shadow: 0px 1px 2px rgba(60, 64, 67, 0.3), 0px 1px 3px 1px rgba(60, 64, 67, 0.15);\n",
              "      fill: #174EA6;\n",
              "    }\n",
              "\n",
              "    .colab-df-buttons div {\n",
              "      margin-bottom: 4px;\n",
              "    }\n",
              "\n",
              "    [theme=dark] .colab-df-convert {\n",
              "      background-color: #3B4455;\n",
              "      fill: #D2E3FC;\n",
              "    }\n",
              "\n",
              "    [theme=dark] .colab-df-convert:hover {\n",
              "      background-color: #434B5C;\n",
              "      box-shadow: 0px 1px 3px 1px rgba(0, 0, 0, 0.15);\n",
              "      filter: drop-shadow(0px 1px 2px rgba(0, 0, 0, 0.3));\n",
              "      fill: #FFFFFF;\n",
              "    }\n",
              "  </style>\n",
              "\n",
              "    <script>\n",
              "      const buttonEl =\n",
              "        document.querySelector('#df-0566e0a2-e16e-4c45-991f-6bbc70c3416e button.colab-df-convert');\n",
              "      buttonEl.style.display =\n",
              "        google.colab.kernel.accessAllowed ? 'block' : 'none';\n",
              "\n",
              "      async function convertToInteractive(key) {\n",
              "        const element = document.querySelector('#df-0566e0a2-e16e-4c45-991f-6bbc70c3416e');\n",
              "        const dataTable =\n",
              "          await google.colab.kernel.invokeFunction('convertToInteractive',\n",
              "                                                    [key], {});\n",
              "        if (!dataTable) return;\n",
              "\n",
              "        const docLinkHtml = 'Like what you see? Visit the ' +\n",
              "          '<a target=\"_blank\" href=https://colab.research.google.com/notebooks/data_table.ipynb>data table notebook</a>'\n",
              "          + ' to learn more about interactive tables.';\n",
              "        element.innerHTML = '';\n",
              "        dataTable['output_type'] = 'display_data';\n",
              "        await google.colab.output.renderOutput(dataTable, element);\n",
              "        const docLink = document.createElement('div');\n",
              "        docLink.innerHTML = docLinkHtml;\n",
              "        element.appendChild(docLink);\n",
              "      }\n",
              "    </script>\n",
              "  </div>\n",
              "\n",
              "\n",
              "    <div id=\"df-561d01ca-fd2a-48e2-9d65-b7049b4f2b53\">\n",
              "      <button class=\"colab-df-quickchart\" onclick=\"quickchart('df-561d01ca-fd2a-48e2-9d65-b7049b4f2b53')\"\n",
              "                title=\"Suggest charts\"\n",
              "                style=\"display:none;\">\n",
              "\n",
              "<svg xmlns=\"http://www.w3.org/2000/svg\" height=\"24px\"viewBox=\"0 0 24 24\"\n",
              "     width=\"24px\">\n",
              "    <g>\n",
              "        <path d=\"M19 3H5c-1.1 0-2 .9-2 2v14c0 1.1.9 2 2 2h14c1.1 0 2-.9 2-2V5c0-1.1-.9-2-2-2zM9 17H7v-7h2v7zm4 0h-2V7h2v10zm4 0h-2v-4h2v4z\"/>\n",
              "    </g>\n",
              "</svg>\n",
              "      </button>\n",
              "\n",
              "<style>\n",
              "  .colab-df-quickchart {\n",
              "      --bg-color: #E8F0FE;\n",
              "      --fill-color: #1967D2;\n",
              "      --hover-bg-color: #E2EBFA;\n",
              "      --hover-fill-color: #174EA6;\n",
              "      --disabled-fill-color: #AAA;\n",
              "      --disabled-bg-color: #DDD;\n",
              "  }\n",
              "\n",
              "  [theme=dark] .colab-df-quickchart {\n",
              "      --bg-color: #3B4455;\n",
              "      --fill-color: #D2E3FC;\n",
              "      --hover-bg-color: #434B5C;\n",
              "      --hover-fill-color: #FFFFFF;\n",
              "      --disabled-bg-color: #3B4455;\n",
              "      --disabled-fill-color: #666;\n",
              "  }\n",
              "\n",
              "  .colab-df-quickchart {\n",
              "    background-color: var(--bg-color);\n",
              "    border: none;\n",
              "    border-radius: 50%;\n",
              "    cursor: pointer;\n",
              "    display: none;\n",
              "    fill: var(--fill-color);\n",
              "    height: 32px;\n",
              "    padding: 0;\n",
              "    width: 32px;\n",
              "  }\n",
              "\n",
              "  .colab-df-quickchart:hover {\n",
              "    background-color: var(--hover-bg-color);\n",
              "    box-shadow: 0 1px 2px rgba(60, 64, 67, 0.3), 0 1px 3px 1px rgba(60, 64, 67, 0.15);\n",
              "    fill: var(--button-hover-fill-color);\n",
              "  }\n",
              "\n",
              "  .colab-df-quickchart-complete:disabled,\n",
              "  .colab-df-quickchart-complete:disabled:hover {\n",
              "    background-color: var(--disabled-bg-color);\n",
              "    fill: var(--disabled-fill-color);\n",
              "    box-shadow: none;\n",
              "  }\n",
              "\n",
              "  .colab-df-spinner {\n",
              "    border: 2px solid var(--fill-color);\n",
              "    border-color: transparent;\n",
              "    border-bottom-color: var(--fill-color);\n",
              "    animation:\n",
              "      spin 1s steps(1) infinite;\n",
              "  }\n",
              "\n",
              "  @keyframes spin {\n",
              "    0% {\n",
              "      border-color: transparent;\n",
              "      border-bottom-color: var(--fill-color);\n",
              "      border-left-color: var(--fill-color);\n",
              "    }\n",
              "    20% {\n",
              "      border-color: transparent;\n",
              "      border-left-color: var(--fill-color);\n",
              "      border-top-color: var(--fill-color);\n",
              "    }\n",
              "    30% {\n",
              "      border-color: transparent;\n",
              "      border-left-color: var(--fill-color);\n",
              "      border-top-color: var(--fill-color);\n",
              "      border-right-color: var(--fill-color);\n",
              "    }\n",
              "    40% {\n",
              "      border-color: transparent;\n",
              "      border-right-color: var(--fill-color);\n",
              "      border-top-color: var(--fill-color);\n",
              "    }\n",
              "    60% {\n",
              "      border-color: transparent;\n",
              "      border-right-color: var(--fill-color);\n",
              "    }\n",
              "    80% {\n",
              "      border-color: transparent;\n",
              "      border-right-color: var(--fill-color);\n",
              "      border-bottom-color: var(--fill-color);\n",
              "    }\n",
              "    90% {\n",
              "      border-color: transparent;\n",
              "      border-bottom-color: var(--fill-color);\n",
              "    }\n",
              "  }\n",
              "</style>\n",
              "\n",
              "      <script>\n",
              "        async function quickchart(key) {\n",
              "          const quickchartButtonEl =\n",
              "            document.querySelector('#' + key + ' button');\n",
              "          quickchartButtonEl.disabled = true;  // To prevent multiple clicks.\n",
              "          quickchartButtonEl.classList.add('colab-df-spinner');\n",
              "          try {\n",
              "            const charts = await google.colab.kernel.invokeFunction(\n",
              "                'suggestCharts', [key], {});\n",
              "          } catch (error) {\n",
              "            console.error('Error during call to suggestCharts:', error);\n",
              "          }\n",
              "          quickchartButtonEl.classList.remove('colab-df-spinner');\n",
              "          quickchartButtonEl.classList.add('colab-df-quickchart-complete');\n",
              "        }\n",
              "        (() => {\n",
              "          let quickchartButtonEl =\n",
              "            document.querySelector('#df-561d01ca-fd2a-48e2-9d65-b7049b4f2b53 button');\n",
              "          quickchartButtonEl.style.display =\n",
              "            google.colab.kernel.accessAllowed ? 'block' : 'none';\n",
              "        })();\n",
              "      </script>\n",
              "    </div>\n",
              "\n",
              "    </div>\n",
              "  </div>\n"
            ],
            "application/vnd.google.colaboratory.intrinsic+json": {
              "type": "dataframe",
              "summary": "{\n  \"name\": \"df\",\n  \"rows\": 8,\n  \"fields\": [\n    {\n      \"column\": \"Timestamp\",\n      \"properties\": {\n        \"dtype\": \"number\",\n        \"std\": 693644267.0255442,\n        \"min\": 7032685.0,\n        \"max\": 1747442700.0,\n        \"num_unique_values\": 8,\n        \"samples\": [\n          1536393466.789043,\n          1536392580.0,\n          7032685.0\n        ],\n        \"semantic_type\": \"\",\n        \"description\": \"\"\n      }\n    },\n    {\n      \"column\": \"Open\",\n      \"properties\": {\n        \"dtype\": \"number\",\n        \"std\": 2477293.729425378,\n        \"min\": 3.8,\n        \"max\": 7032685.0,\n        \"num_unique_values\": 8,\n        \"samples\": [\n          17660.280086661234,\n          6630.76,\n          7032685.0\n        ],\n        \"semantic_type\": \"\",\n        \"description\": \"\"\n      }\n    },\n    {\n      \"column\": \"High\",\n      \"properties\": {\n        \"dtype\": \"number\",\n        \"std\": 2477281.285236736,\n        \"min\": 3.8,\n        \"max\": 7032685.0,\n        \"num_unique_values\": 8,\n        \"samples\": [\n          17667.262787278425,\n          6634.98,\n          7032685.0\n        ],\n        \"semantic_type\": \"\",\n        \"description\": \"\"\n      }\n    },\n    {\n      \"column\": \"Low\",\n      \"properties\": {\n        \"dtype\": \"number\",\n        \"std\": 2477309.5222955947,\n        \"min\": 3.8,\n        \"max\": 7032685.0,\n        \"num_unique_values\": 8,\n        \"samples\": [\n          17653.07588582312,\n          6626.99,\n          7032685.0\n        ],\n        \"semantic_type\": \"\",\n        \"description\": \"\"\n      }\n    },\n    {\n      \"column\": \"Close\",\n      \"properties\": {\n        \"dtype\": \"number\",\n        \"std\": 2477297.1673965887,\n        \"min\": 3.8,\n        \"max\": 7032685.0,\n        \"num_unique_values\": 8,\n        \"samples\": [\n          17660.276248147213,\n          6630.66,\n          7032685.0\n        ],\n        \"semantic_type\": \"\",\n        \"description\": \"\"\n      }\n    },\n    {\n      \"column\": \"Volume\",\n      \"properties\": {\n        \"dtype\": \"number\",\n        \"std\": 2486133.2250117455,\n        \"min\": 0.0,\n        \"max\": 7032685.0,\n        \"num_unique_values\": 8,\n        \"samples\": [\n          5.288157502018131,\n          0.46535729,\n          7032685.0\n        ],\n        \"semantic_type\": \"\",\n        \"description\": \"\"\n      }\n    }\n  ]\n}"
            }
          },
          "metadata": {},
          "execution_count": 40
        }
      ]
    },
    {
      "cell_type": "markdown",
      "source": [
        "- Tahap ini Menampilkan ringkasan statistik untuk setiap kolom numerik, seperti nilai rata-rata (mean), standar deviasi (std), minimum, maksimum, serta kuartil (25%, 50%, 75%). Langkah ini membantu memahami sebaran dan rentang nilai pada data harga Bitcoin."
      ],
      "metadata": {
        "id": "luO3DfWrBtmq"
      }
    },
    {
      "cell_type": "code",
      "source": [
        "df.hist(bins=20, legend=False, figsize=(20, 15))\n",
        "plt.show()"
      ],
      "metadata": {
        "colab": {
          "base_uri": "https://localhost:8080/",
          "height": 1000
        },
        "id": "fdSeMoFfwYyj",
        "outputId": "b84fde9d-1a43-4421-a3b5-c9488fbd7c99"
      },
      "execution_count": null,
      "outputs": [
        {
          "output_type": "display_data",
          "data": {
            "text/plain": [
              "<Figure size 2000x1500 with 6 Axes>"
            ],
            "image/png": "[encoded data removed]"
          },
          "metadata": {}
        }
      ]
    },
    {
      "cell_type": "markdown",
      "source": [
        "- Langkah ini digunakan untuk menampilkan Plot histogram untuk setiap fitur numerik guna melihat distribusi nilai. Ini membantu mendeteksi pola umum, pencilan (outlier), dan sebaran data pada fitur seperti `Open`, `High`, `Low`, `Close`, dan `Volume`."
      ],
      "metadata": {
        "id": "xKRJgkH3B9qG"
      }
    },
    {
      "cell_type": "markdown",
      "source": [
        "# Data Preprocessing"
      ],
      "metadata": {
        "id": "7yD43znYxH9t"
      }
    },
    {
      "cell_type": "code",
      "source": [
        "# Menghapus nilai kosong\n",
        "df.dropna(inplace=True)"
      ],
      "metadata": {
        "id": "ZonGN9ByYPS1"
      },
      "execution_count": null,
      "outputs": []
    },
    {
      "cell_type": "markdown",
      "source": [
        "- dropna digunakan untuk menghapus nilai kosong jika ada, tetapi dalam datset ini sendiri tidak ada nilai kosong"
      ],
      "metadata": {
        "id": "ZqN9PB5IDWPr"
      }
    },
    {
      "cell_type": "code",
      "source": [
        "# Ubah timestamp ke datetime\n",
        "df['Timestamp'] = pd.to_datetime(df['Timestamp'], unit='ms')"
      ],
      "metadata": {
        "id": "mXeosttMYexG"
      },
      "execution_count": null,
      "outputs": []
    },
    {
      "cell_type": "markdown",
      "source": [
        "- tahap ini digunakan untuk merubah nilai pada timestamp kedalam date time"
      ],
      "metadata": {
        "id": "BdWXi7LBDnmN"
      }
    },
    {
      "cell_type": "code",
      "source": [
        "# Set index sebagai waktu\n",
        "df.set_index('Timestamp', inplace=True)"
      ],
      "metadata": {
        "id": "UnaF6F6GahwZ"
      },
      "execution_count": null,
      "outputs": []
    },
    {
      "cell_type": "markdown",
      "source": [
        "- menetapkan kolom Timestamp sebagai index dari DataFrame."
      ],
      "metadata": {
        "id": "XEE1VCwDEuL6"
      }
    },
    {
      "cell_type": "code",
      "source": [
        "df = df.resample('1D').mean().dropna()"
      ],
      "metadata": {
        "id": "zrwQFqtcxiOT"
      },
      "execution_count": null,
      "outputs": []
    },
    {
      "cell_type": "markdown",
      "source": [
        "- resample('1D'): Mengelompokkan data berdasarkan interval 1 hari (daily).\n",
        "\n",
        "- .mean(): Menghitung rata-rata dari setiap grup harian. Cocok jika data awalnya berdurasi lebih pendek, seperti per jam atau per menit.\n",
        "\n",
        "- .dropna(): Menghapus baris yang mengandung nilai NaN setelah proses resampling (mungkin karena tidak ada data pada hari tertentu)."
      ],
      "metadata": {
        "id": "JWjkErYYE1wb"
      }
    },
    {
      "cell_type": "code",
      "source": [
        "df = df[['Close']]"
      ],
      "metadata": {
        "id": "qSQwlC1cxljk"
      },
      "execution_count": null,
      "outputs": []
    },
    {
      "cell_type": "markdown",
      "source": [
        "- Setelah resampling, hanya kolom Close yang dipertahankan."
      ],
      "metadata": {
        "id": "EQC_WQD4E-7g"
      }
    },
    {
      "cell_type": "code",
      "source": [
        "# Normalisasi\n",
        "scaler = MinMaxScaler()\n",
        "scaled_data = scaler.fit_transform(df)"
      ],
      "metadata": {
        "id": "FLXE1ztDxqEo"
      },
      "execution_count": null,
      "outputs": []
    },
    {
      "cell_type": "markdown",
      "source": [
        "- Pada bagian ini dilakukan normalisasi data dengan MinMaxScaler untuk mengubah skala fitur ke dalam rentang [0, 1]. Hal ini penting agar model deep learning dapat belajar secara optimal karena sensitivitas terhadap skala input.\n"
      ],
      "metadata": {
        "id": "AavWEK7sEDB-"
      }
    },
    {
      "cell_type": "code",
      "source": [
        "# Buat Time Series Dataset\n",
        "def create_sequences(data, n_steps):\n",
        "    X, y = [], []\n",
        "    for i in range(n_steps, len(data)):\n",
        "        X.append(data[i - n_steps:i, 0])\n",
        "        y.append(data[i, 0])\n",
        "    return np.array(X), np.array(y)\n",
        "\n",
        "n_steps = 60\n",
        "X, y = create_sequences(scaled_data, n_steps)\n",
        "X = X.reshape((X.shape[0], X.shape[1], 1))  # [samples, timesteps, features]"
      ],
      "metadata": {
        "id": "XHxtfrnGx7i1"
      },
      "execution_count": null,
      "outputs": []
    },
    {
      "cell_type": "markdown",
      "source": [
        "- Membuat urutan data sepanjang n_steps (misal 60 hari) untuk memprediksi nilai berikutnya.\n",
        "X: berisi urutan nilai sebelumnya.\n",
        "y: berisi target nilai setelah urutan tersebut. kemudian reshape kebentuk 3 dimensi"
      ],
      "metadata": {
        "id": "GIRILqkeFiS0"
      }
    },
    {
      "cell_type": "code",
      "source": [
        "# Split Train & Test\n",
        "split = int(0.8 * len(X))\n",
        "X_train, y_train = X[:split], y[:split]\n",
        "X_test, y_test = X[split:], y[split:]\n",
        "dates = df.index[n_steps:]\n",
        "test_dates = dates[split:]"
      ],
      "metadata": {
        "id": "IK2uq3zAyBcT"
      },
      "execution_count": null,
      "outputs": []
    },
    {
      "cell_type": "markdown",
      "source": [
        "- Memisahkan data 80% untuk training (X_train, y_train), 20% untuk testing (X_test, y_test).\n",
        "\n",
        "- test_dates: menyimpan tanggal yang sesuai untuk visualisasi hasil prediksi nanti."
      ],
      "metadata": {
        "id": "lRIJN_8pF4cm"
      }
    },
    {
      "cell_type": "code",
      "source": [
        "df.head()"
      ],
      "metadata": {
        "colab": {
          "base_uri": "https://localhost:8080/",
          "height": 237
        },
        "id": "gGvzPXQmIzFG",
        "outputId": "eba488f5-584f-4067-975b-a92698cf18e6"
      },
      "execution_count": null,
      "outputs": [
        {
          "output_type": "execute_result",
          "data": {
            "text/plain": [
              "               Close\n",
              "Timestamp           \n",
              "2012-01-01  4.645697\n",
              "2012-01-02  4.975000\n",
              "2012-01-03  5.085500\n",
              "2012-01-04  5.170396\n",
              "2012-01-05  5.954361"
            ],
            "text/html": [
              "\n",
              "  <div id=\"df-573e16d8-aa0b-43cd-b5d3-83670ef164be\" class=\"colab-df-container\">\n",
              "    <div>\n",
              "<style scoped>\n",
              "    .dataframe tbody tr th:only-of-type {\n",
              "        vertical-align: middle;\n",
              "    }\n",
              "\n",
              "    .dataframe tbody tr th {\n",
              "        vertical-align: top;\n",
              "    }\n",
              "\n",
              "    .dataframe thead th {\n",
              "        text-align: right;\n",
              "    }\n",
              "</style>\n",
              "<table border=\"1\" class=\"dataframe\">\n",
              "  <thead>\n",
              "    <tr style=\"text-align: right;\">\n",
              "      <th></th>\n",
              "      <th>Close</th>\n",
              "    </tr>\n",
              "    <tr>\n",
              "      <th>Timestamp</th>\n",
              "      <th></th>\n",
              "    </tr>\n",
              "  </thead>\n",
              "  <tbody>\n",
              "    <tr>\n",
              "      <th>2012-01-01</th>\n",
              "      <td>4.645697</td>\n",
              "    </tr>\n",
              "    <tr>\n",
              "      <th>2012-01-02</th>\n",
              "      <td>4.975000</td>\n",
              "    </tr>\n",
              "    <tr>\n",
              "      <th>2012-01-03</th>\n",
              "      <td>5.085500</td>\n",
              "    </tr>\n",
              "    <tr>\n",
              "      <th>2012-01-04</th>\n",
              "      <td>5.170396</td>\n",
              "    </tr>\n",
              "    <tr>\n",
              "      <th>2012-01-05</th>\n",
              "      <td>5.954361</td>\n",
              "    </tr>\n",
              "  </tbody>\n",
              "</table>\n",
              "</div>\n",
              "    <div class=\"colab-df-buttons\">\n",
              "\n",
              "  <div class=\"colab-df-container\">\n",
              "    <button class=\"colab-df-convert\" onclick=\"convertToInteractive('df-573e16d8-aa0b-43cd-b5d3-83670ef164be')\"\n",
              "            title=\"Convert this dataframe to an interactive table.\"\n",
              "            style=\"display:none;\">\n",
              "\n",
              "  <svg xmlns=\"http://www.w3.org/2000/svg\" height=\"24px\" viewBox=\"0 -960 960 960\">\n",
              "    <path d=\"M120-120v-720h720v720H120Zm60-500h600v-160H180v160Zm220 220h160v-160H400v160Zm0 220h160v-160H400v160ZM180-400h160v-160H180v160Zm440 0h160v-160H620v160ZM180-180h160v-160H180v160Zm440 0h160v-160H620v160Z\"/>\n",
              "  </svg>\n",
              "    </button>\n",
              "\n",
              "  <style>\n",
              "    .colab-df-container {\n",
              "      display:flex;\n",
              "      gap: 12px;\n",
              "    }\n",
              "\n",
              "    .colab-df-convert {\n",
              "      background-color: #E8F0FE;\n",
              "      border: none;\n",
              "      border-radius: 50%;\n",
              "      cursor: pointer;\n",
              "      display: none;\n",
              "      fill: #1967D2;\n",
              "      height: 32px;\n",
              "      padding: 0 0 0 0;\n",
              "      width: 32px;\n",
              "    }\n",
              "\n",
              "    .colab-df-convert:hover {\n",
              "      background-color: #E2EBFA;\n",
              "      box-shadow: 0px 1px 2px rgba(60, 64, 67, 0.3), 0px 1px 3px 1px rgba(60, 64, 67, 0.15);\n",
              "      fill: #174EA6;\n",
              "    }\n",
              "\n",
              "    .colab-df-buttons div {\n",
              "      margin-bottom: 4px;\n",
              "    }\n",
              "\n",
              "    [theme=dark] .colab-df-convert {\n",
              "      background-color: #3B4455;\n",
              "      fill: #D2E3FC;\n",
              "    }\n",
              "\n",
              "    [theme=dark] .colab-df-convert:hover {\n",
              "      background-color: #434B5C;\n",
              "      box-shadow: 0px 1px 3px 1px rgba(0, 0, 0, 0.15);\n",
              "      filter: drop-shadow(0px 1px 2px rgba(0, 0, 0, 0.3));\n",
              "      fill: #FFFFFF;\n",
              "    }\n",
              "  </style>\n",
              "\n",
              "    <script>\n",
              "      const buttonEl =\n",
              "        document.querySelector('#df-573e16d8-aa0b-43cd-b5d3-83670ef164be button.colab-df-convert');\n",
              "      buttonEl.style.display =\n",
              "        google.colab.kernel.accessAllowed ? 'block' : 'none';\n",
              "\n",
              "      async function convertToInteractive(key) {\n",
              "        const element = document.querySelector('#df-573e16d8-aa0b-43cd-b5d3-83670ef164be');\n",
              "        const dataTable =\n",
              "          await google.colab.kernel.invokeFunction('convertToInteractive',\n",
              "                                                    [key], {});\n",
              "        if (!dataTable) return;\n",
              "\n",
              "        const docLinkHtml = 'Like what you see? Visit the ' +\n",
              "          '<a target=\"_blank\" href=https://colab.research.google.com/notebooks/data_table.ipynb>data table notebook</a>'\n",
              "          + ' to learn more about interactive tables.';\n",
              "        element.innerHTML = '';\n",
              "        dataTable['output_type'] = 'display_data';\n",
              "        await google.colab.output.renderOutput(dataTable, element);\n",
              "        const docLink = document.createElement('div');\n",
              "        docLink.innerHTML = docLinkHtml;\n",
              "        element.appendChild(docLink);\n",
              "      }\n",
              "    </script>\n",
              "  </div>\n",
              "\n",
              "\n",
              "    <div id=\"df-42e432ec-bd73-4575-b37d-c968a57b827a\">\n",
              "      <button class=\"colab-df-quickchart\" onclick=\"quickchart('df-42e432ec-bd73-4575-b37d-c968a57b827a')\"\n",
              "                title=\"Suggest charts\"\n",
              "                style=\"display:none;\">\n",
              "\n",
              "<svg xmlns=\"http://www.w3.org/2000/svg\" height=\"24px\"viewBox=\"0 0 24 24\"\n",
              "     width=\"24px\">\n",
              "    <g>\n",
              "        <path d=\"M19 3H5c-1.1 0-2 .9-2 2v14c0 1.1.9 2 2 2h14c1.1 0 2-.9 2-2V5c0-1.1-.9-2-2-2zM9 17H7v-7h2v7zm4 0h-2V7h2v10zm4 0h-2v-4h2v4z\"/>\n",
              "    </g>\n",
              "</svg>\n",
              "      </button>\n",
              "\n",
              "<style>\n",
              "  .colab-df-quickchart {\n",
              "      --bg-color: #E8F0FE;\n",
              "      --fill-color: #1967D2;\n",
              "      --hover-bg-color: #E2EBFA;\n",
              "      --hover-fill-color: #174EA6;\n",
              "      --disabled-fill-color: #AAA;\n",
              "      --disabled-bg-color: #DDD;\n",
              "  }\n",
              "\n",
              "  [theme=dark] .colab-df-quickchart {\n",
              "      --bg-color: #3B4455;\n",
              "      --fill-color: #D2E3FC;\n",
              "      --hover-bg-color: #434B5C;\n",
              "      --hover-fill-color: #FFFFFF;\n",
              "      --disabled-bg-color: #3B4455;\n",
              "      --disabled-fill-color: #666;\n",
              "  }\n",
              "\n",
              "  .colab-df-quickchart {\n",
              "    background-color: var(--bg-color);\n",
              "    border: none;\n",
              "    border-radius: 50%;\n",
              "    cursor: pointer;\n",
              "    display: none;\n",
              "    fill: var(--fill-color);\n",
              "    height: 32px;\n",
              "    padding: 0;\n",
              "    width: 32px;\n",
              "  }\n",
              "\n",
              "  .colab-df-quickchart:hover {\n",
              "    background-color: var(--hover-bg-color);\n",
              "    box-shadow: 0 1px 2px rgba(60, 64, 67, 0.3), 0 1px 3px 1px rgba(60, 64, 67, 0.15);\n",
              "    fill: var(--button-hover-fill-color);\n",
              "  }\n",
              "\n",
              "  .colab-df-quickchart-complete:disabled,\n",
              "  .colab-df-quickchart-complete:disabled:hover {\n",
              "    background-color: var(--disabled-bg-color);\n",
              "    fill: var(--disabled-fill-color);\n",
              "    box-shadow: none;\n",
              "  }\n",
              "\n",
              "  .colab-df-spinner {\n",
              "    border: 2px solid var(--fill-color);\n",
              "    border-color: transparent;\n",
              "    border-bottom-color: var(--fill-color);\n",
              "    animation:\n",
              "      spin 1s steps(1) infinite;\n",
              "  }\n",
              "\n",
              "  @keyframes spin {\n",
              "    0% {\n",
              "      border-color: transparent;\n",
              "      border-bottom-color: var(--fill-color);\n",
              "      border-left-color: var(--fill-color);\n",
              "    }\n",
              "    20% {\n",
              "      border-color: transparent;\n",
              "      border-left-color: var(--fill-color);\n",
              "      border-top-color: var(--fill-color);\n",
              "    }\n",
              "    30% {\n",
              "      border-color: transparent;\n",
              "      border-left-color: var(--fill-color);\n",
              "      border-top-color: var(--fill-color);\n",
              "      border-right-color: var(--fill-color);\n",
              "    }\n",
              "    40% {\n",
              "      border-color: transparent;\n",
              "      border-right-color: var(--fill-color);\n",
              "      border-top-color: var(--fill-color);\n",
              "    }\n",
              "    60% {\n",
              "      border-color: transparent;\n",
              "      border-right-color: var(--fill-color);\n",
              "    }\n",
              "    80% {\n",
              "      border-color: transparent;\n",
              "      border-right-color: var(--fill-color);\n",
              "      border-bottom-color: var(--fill-color);\n",
              "    }\n",
              "    90% {\n",
              "      border-color: transparent;\n",
              "      border-bottom-color: var(--fill-color);\n",
              "    }\n",
              "  }\n",
              "</style>\n",
              "\n",
              "      <script>\n",
              "        async function quickchart(key) {\n",
              "          const quickchartButtonEl =\n",
              "            document.querySelector('#' + key + ' button');\n",
              "          quickchartButtonEl.disabled = true;  // To prevent multiple clicks.\n",
              "          quickchartButtonEl.classList.add('colab-df-spinner');\n",
              "          try {\n",
              "            const charts = await google.colab.kernel.invokeFunction(\n",
              "                'suggestCharts', [key], {});\n",
              "          } catch (error) {\n",
              "            console.error('Error during call to suggestCharts:', error);\n",
              "          }\n",
              "          quickchartButtonEl.classList.remove('colab-df-spinner');\n",
              "          quickchartButtonEl.classList.add('colab-df-quickchart-complete');\n",
              "        }\n",
              "        (() => {\n",
              "          let quickchartButtonEl =\n",
              "            document.querySelector('#df-42e432ec-bd73-4575-b37d-c968a57b827a button');\n",
              "          quickchartButtonEl.style.display =\n",
              "            google.colab.kernel.accessAllowed ? 'block' : 'none';\n",
              "        })();\n",
              "      </script>\n",
              "    </div>\n",
              "\n",
              "    </div>\n",
              "  </div>\n"
            ],
            "application/vnd.google.colaboratory.intrinsic+json": {
              "type": "dataframe",
              "variable_name": "df",
              "summary": "{\n  \"name\": \"df\",\n  \"rows\": 4886,\n  \"fields\": [\n    {\n      \"column\": \"Timestamp\",\n      \"properties\": {\n        \"dtype\": \"date\",\n        \"min\": \"2012-01-01 00:00:00\",\n        \"max\": \"2025-05-17 00:00:00\",\n        \"num_unique_values\": 4886,\n        \"samples\": [\n          \"2015-02-23 00:00:00\",\n          \"2013-01-28 00:00:00\",\n          \"2015-06-22 00:00:00\"\n        ],\n        \"semantic_type\": \"\",\n        \"description\": \"\"\n      }\n    },\n    {\n      \"column\": \"Close\",\n      \"properties\": {\n        \"dtype\": \"number\",\n        \"std\": 24497.665330877142,\n        \"min\": 4.315465277777777,\n        \"max\": 106746.60763888889,\n        \"num_unique_values\": 4883,\n        \"samples\": [\n          237.0847222222222,\n          17.794430555555554,\n          241.3214861111111\n        ],\n        \"semantic_type\": \"\",\n        \"description\": \"\"\n      }\n    }\n  ]\n}"
            }
          },
          "metadata": {},
          "execution_count": 65
        }
      ]
    },
    {
      "cell_type": "markdown",
      "source": [
        "- lihat dataset setelah preprocessing"
      ],
      "metadata": {
        "id": "zEtbkfQVGAFO"
      }
    },
    {
      "cell_type": "markdown",
      "source": [
        "# Modelling"
      ],
      "metadata": {
        "id": "Kkg2qubhfghZ"
      }
    },
    {
      "cell_type": "code",
      "source": [
        "# Build LSTM Model\n",
        "model = Sequential([\n",
        "    LSTM(50, return_sequences=True, input_shape=(n_steps, 1)),\n",
        "    LSTM(50),\n",
        "    Dense(1)\n",
        "])\n",
        "model.compile(optimizer='adam', loss='mse')"
      ],
      "metadata": {
        "colab": {
          "base_uri": "https://localhost:8080/"
        },
        "id": "kjMbAZdxfeoa",
        "outputId": "81b16559-17ec-4755-8d8d-80dc553fe952"
      },
      "execution_count": null,
      "outputs": [
        {
          "output_type": "stream",
          "name": "stderr",
          "text": [
            "/usr/local/lib/python3.11/dist-packages/keras/src/layers/rnn/rnn.py:200: UserWarning: Do not pass an `input_shape`/`input_dim` argument to a layer. When using Sequential models, prefer using an `Input(shape)` object as the first layer in the model instead.\n",
            "  super().__init__(**kwargs)\n"
          ]
        }
      ]
    },
    {
      "cell_type": "markdown",
      "source": [
        "Model Sequential dengan 2 layer LSTM:\n",
        "- LSTM pertama: return_sequences=True agar output cocok untuk LSTM berikutnya.\n",
        "- LSTM kedua: output terakhir untuk prediksi.\n",
        "- Dense(1): layer output dengan 1 neuron, memprediksi 1 nilai Close.\n",
        "\n",
        "Optimizer: Adam, cepat dan efisien.\n",
        "\n",
        "Loss: Mean Squared Error (MSE) cocok untuk regresi (angka kontinu)."
      ],
      "metadata": {
        "id": "LiKKMyDoIXxr"
      }
    },
    {
      "cell_type": "code",
      "source": [
        "# Train model\n",
        "early_stop = EarlyStopping(monitor='val_loss', patience=5)\n",
        "history = model.fit(\n",
        "    X_train, y_train,\n",
        "    validation_data=(X_test, y_test),\n",
        "    epochs=20,\n",
        "    batch_size=64,\n",
        "    callbacks=[early_stop],\n",
        "    verbose=1\n",
        ")"
      ],
      "metadata": {
        "colab": {
          "base_uri": "https://localhost:8080/"
        },
        "id": "g4-B3AXfyLdT",
        "outputId": "80f33782-1266-4f45-f297-2889ea514843"
      },
      "execution_count": null,
      "outputs": [
        {
          "output_type": "stream",
          "name": "stdout",
          "text": [
            "Epoch 1/20\n",
            "\u001b[1m61/61\u001b[0m \u001b[32m━━━━━━━━━━━━━━━━━━━━\u001b[0m\u001b[37m\u001b[0m \u001b[1m9s\u001b[0m 78ms/step - loss: 0.0057 - val_loss: 0.0010\n",
            "Epoch 2/20\n",
            "\u001b[1m61/61\u001b[0m \u001b[32m━━━━━━━━━━━━━━━━━━━━\u001b[0m\u001b[37m\u001b[0m \u001b[1m5s\u001b[0m 84ms/step - loss: 2.6167e-04 - val_loss: 0.0016\n",
            "Epoch 3/20\n",
            "\u001b[1m61/61\u001b[0m \u001b[32m━━━━━━━━━━━━━━━━━━━━\u001b[0m\u001b[37m\u001b[0m \u001b[1m4s\u001b[0m 64ms/step - loss: 2.3714e-04 - val_loss: 0.0014\n",
            "Epoch 4/20\n",
            "\u001b[1m61/61\u001b[0m \u001b[32m━━━━━━━━━━━━━━━━━━━━\u001b[0m\u001b[37m\u001b[0m \u001b[1m4s\u001b[0m 69ms/step - loss: 1.9758e-04 - val_loss: 0.0028\n",
            "Epoch 5/20\n",
            "\u001b[1m61/61\u001b[0m \u001b[32m━━━━━━━━━━━━━━━━━━━━\u001b[0m\u001b[37m\u001b[0m \u001b[1m5s\u001b[0m 88ms/step - loss: 1.6435e-04 - val_loss: 0.0013\n",
            "Epoch 6/20\n",
            "\u001b[1m61/61\u001b[0m \u001b[32m━━━━━━━━━━━━━━━━━━━━\u001b[0m\u001b[37m\u001b[0m \u001b[1m9s\u001b[0m 65ms/step - loss: 1.5836e-04 - val_loss: 0.0010\n"
          ]
        }
      ]
    },
    {
      "cell_type": "markdown",
      "source": [
        "- EarlyStopping: hentikan training jika val_loss tidak membaik selama 5 epoch.\n",
        "- validation_data: gunakan data test saat training untuk validasi.\n",
        "- Training dilakukan selama max 20 epoch dengan batch_size=64."
      ],
      "metadata": {
        "id": "dZUKYx5gI08f"
      }
    },
    {
      "cell_type": "code",
      "source": [
        "# Predict test set\n",
        "y_pred = model.predict(X_test)\n",
        "y_pred_inv = scaler.inverse_transform(y_pred.reshape(-1, 1))\n",
        "y_test_inv = scaler.inverse_transform(y_test.reshape(-1, 1))"
      ],
      "metadata": {
        "colab": {
          "base_uri": "https://localhost:8080/"
        },
        "id": "erH8EXvnD26e",
        "outputId": "3b8d853e-2c67-4033-dbc1-1c2d2658335a"
      },
      "execution_count": null,
      "outputs": [
        {
          "output_type": "stream",
          "name": "stdout",
          "text": [
            "\u001b[1m31/31\u001b[0m \u001b[32m━━━━━━━━━━━━━━━━━━━━\u001b[0m\u001b[37m\u001b[0m \u001b[1m2s\u001b[0m 56ms/step\n"
          ]
        }
      ]
    },
    {
      "cell_type": "markdown",
      "source": [
        "- Model membuat prediksi terhadap data X_test.\n",
        "- inverse_transform: mengembalikan nilai ke skala aslinya (karena sebelumnya dinormalisasi).\n",
        "- y_pred_inv dan y_test_inv siap untuk evaluasi atau visualisasi."
      ],
      "metadata": {
        "id": "CFiR5i9GJBox"
      }
    },
    {
      "cell_type": "markdown",
      "source": [
        "# Evaluasi"
      ],
      "metadata": {
        "id": "tV3hUe6BfrPW"
      }
    },
    {
      "cell_type": "code",
      "source": [
        "# Evaluate\n",
        "mae = mean_absolute_error(y_test_inv, y_pred_inv)\n",
        "rmse = np.sqrt(mean_squared_error(y_test_inv, y_pred_inv))\n",
        "r2 = r2_score(y_test_inv, y_pred_inv)\n",
        "\n",
        "print(f\"MAE  : {mae:.2f}\")\n",
        "print(f\"RMSE : {rmse:.2f}\")\n",
        "print(f\"R²   : {r2:.2f}\")"
      ],
      "metadata": {
        "colab": {
          "base_uri": "https://localhost:8080/"
        },
        "id": "CwCQWimIfo7y",
        "outputId": "b79e67a6-b5cc-47e1-9188-e4f068ecb74a"
      },
      "execution_count": null,
      "outputs": [
        {
          "output_type": "stream",
          "name": "stdout",
          "text": [
            "MAE  : 2322.14\n",
            "RMSE : 3452.64\n",
            "R²   : 0.98\n"
          ]
        }
      ]
    },
    {
      "cell_type": "markdown",
      "source": [
        "Pada tahap ini kita melihat hasil evaluasi menggunakan beberapa metrik\n",
        "- MAE (Mean Absolute Error): rata-rata selisih absolut antara prediksi dan nilai sebenarnya. Semakin kecil, semakin baik.\n",
        "- RMSE (Root Mean Squared Error): mirip MAE tapi lebih sensitif terhadap error besar.\n",
        "- R² (R-squared): mengukur seberapa baik model menjelaskan variasi data.Nilai R² mendekati 1 menandakan prediksi sangat baik."
      ],
      "metadata": {
        "id": "RUW-IXobJPKb"
      }
    },
    {
      "cell_type": "code",
      "source": [
        "# Plot actual vs predicted\n",
        "plt.figure(figsize=(14,6))\n",
        "plt.plot(test_dates, y_test_inv, label='Actual')\n",
        "plt.plot(test_dates, y_pred_inv, label='Predicted')\n",
        "plt.title('Prediksi Harga Bitcoin (Test Set)')\n",
        "plt.xlabel('Tanggal')\n",
        "plt.ylabel('Harga Penutupan (Close)')\n",
        "plt.legend()\n",
        "plt.grid()\n",
        "plt.xticks(rotation=45)\n",
        "plt.tight_layout()\n",
        "plt.show()"
      ],
      "metadata": {
        "colab": {
          "base_uri": "https://localhost:8080/",
          "height": 607
        },
        "id": "kN-K8RbgJ0qt",
        "outputId": "efa7dedb-6e45-4aa0-b82b-76d152e78b8c"
      },
      "execution_count": null,
      "outputs": [
        {
          "output_type": "display_data",
          "data": {
            "text/plain": [
              "<Figure size 1400x600 with 1 Axes>"
            ],
            "image/png": "[encoded data removed]"
          },
          "metadata": {}
        }
      ]
    },
    {
      "cell_type": "markdown",
      "source": [
        "- Pada tahap ini saya Membuat plot perbandingan antara nilai aktual (y_test_inv) dan hasil prediksi (y_pred_inv) terhadap tanggal (test_dates). Visual ini penting untuk melihat seberapa dekat prediksi mengikuti pola asli."
      ],
      "metadata": {
        "id": "6Q5EruchJ5IQ"
      }
    },
    {
      "cell_type": "code",
      "source": [
        "# Forecast n_days ke depan\n",
        "n_forecast = 7\n",
        "last_sequence = scaled_data[-n_steps:].reshape(1, n_steps, 1)\n",
        "future_preds = []\n",
        "\n",
        "for _ in range(n_forecast):\n",
        "    pred = model.predict(last_sequence)[0][0]\n",
        "    future_preds.append(pred)\n",
        "    last_sequence = np.append(last_sequence[:,1:,:], [[[pred]]], axis=1)\n",
        "\n",
        "# Inverse transform hasil prediksi\n",
        "future_preds_inv = scaler.inverse_transform(np.array(future_preds).reshape(-1,1))\n",
        "last_date = df.index[-1]\n",
        "future_dates = pd.date_range(start=last_date + pd.Timedelta(days=1), periods=n_forecast)"
      ],
      "metadata": {
        "colab": {
          "base_uri": "https://localhost:8080/"
        },
        "id": "BatVnqEDJ6rR",
        "outputId": "0129c036-6930-49c0-87a9-21fd5f44b8c8"
      },
      "execution_count": null,
      "outputs": [
        {
          "output_type": "stream",
          "name": "stdout",
          "text": [
            "\u001b[1m1/1\u001b[0m \u001b[32m━━━━━━━━━━━━━━━━━━━━\u001b[0m\u001b[37m\u001b[0m \u001b[1m0s\u001b[0m 94ms/step\n",
            "\u001b[1m1/1\u001b[0m \u001b[32m━━━━━━━━━━━━━━━━━━━━\u001b[0m\u001b[37m\u001b[0m \u001b[1m0s\u001b[0m 67ms/step\n",
            "\u001b[1m1/1\u001b[0m \u001b[32m━━━━━━━━━━━━━━━━━━━━\u001b[0m\u001b[37m\u001b[0m \u001b[1m0s\u001b[0m 48ms/step\n",
            "\u001b[1m1/1\u001b[0m \u001b[32m━━━━━━━━━━━━━━━━━━━━\u001b[0m\u001b[37m\u001b[0m \u001b[1m0s\u001b[0m 43ms/step\n",
            "\u001b[1m1/1\u001b[0m \u001b[32m━━━━━━━━━━━━━━━━━━━━\u001b[0m\u001b[37m\u001b[0m \u001b[1m0s\u001b[0m 40ms/step\n",
            "\u001b[1m1/1\u001b[0m \u001b[32m━━━━━━━━━━━━━━━━━━━━\u001b[0m\u001b[37m\u001b[0m \u001b[1m0s\u001b[0m 41ms/step\n",
            "\u001b[1m1/1\u001b[0m \u001b[32m━━━━━━━━━━━━━━━━━━━━\u001b[0m\u001b[37m\u001b[0m \u001b[1m0s\u001b[0m 75ms/step\n"
          ]
        }
      ]
    },
    {
      "cell_type": "markdown",
      "source": [
        "pada tahap ini kita ingin memprediksi harga 7 hari kedepan"
      ],
      "metadata": {
        "id": "vSlCDpZCLyer"
      }
    },
    {
      "cell_type": "code",
      "source": [
        "# Ambil harga penutupan terakhir dari data historis\n",
        "last_actual_date = df.index[-1]\n",
        "last_actual_price = df['Close'].iloc[-1]\n",
        "\n",
        "# Gabungkan titik akhir aktual dengan prediksi\n",
        "forecast_dates = [last_actual_date] + list(future_dates)\n",
        "forecast_prices = np.concatenate([[last_actual_price], future_preds_inv.flatten()])\n",
        "\n",
        "# Visualisasi prediksi masa depan\n",
        "plt.figure(figsize=(14,6))\n",
        "plt.plot(df.index[-100:], df['Close'].values[-100:], label='Historical (last 100 days)')\n",
        "plt.plot(forecast_dates, forecast_prices, label=f'Forecast Next {n_forecast} Days', linestyle='--', color='red')\n",
        "plt.title(f'Forecasting Harga Bitcoin {n_forecast} Hari ke Depan')\n",
        "plt.xlabel('Tanggal')\n",
        "plt.ylabel('Harga Penutupan (Close)')\n",
        "plt.legend()\n",
        "plt.grid()\n",
        "plt.xticks(rotation=45)\n",
        "plt.tight_layout()\n",
        "plt.show()\n"
      ],
      "metadata": {
        "colab": {
          "base_uri": "https://localhost:8080/",
          "height": 607
        },
        "id": "9WTX_SKCKuaz",
        "outputId": "978d145c-2c49-4d43-f890-4b4d27b4e0f6"
      },
      "execution_count": null,
      "outputs": [
        {
          "output_type": "display_data",
          "data": {
            "text/plain": [
              "<Figure size 1400x600 with 1 Axes>"
            ],
            "image/png": "[encoded data removed]"
          },
          "metadata": {}
        }
      ]
    },
    {
      "cell_type": "markdown",
      "source": [
        "dari grafik tersebut dapat dilihat bahwa\n",
        "- Model prediksi berhasil menangkap pola harga sebelumnya (dengan R² = 0.98).\n",
        "- Untuk jangka pendek, prediksi menunjukkan tren turun moderat.\n",
        "- Visualisasi ini dapat membantu pengambilan keputusan untuk investor atau trader dalam waktu dekat."
      ],
      "metadata": {
        "id": "UBIR7HjpMR1Y"
      }
    },
    {
      "cell_type": "markdown",
      "source": [
        "Laporan Prediksi Harga Bitcoin 7 Hari ke Depan\n",
        "=============================================\n",
        "\n",
        "📌 Kesimpulan\n",
        "-------------\n",
        "Dari grafik \"Forecasting Harga Bitcoin 7 Hari ke Depan\", dapat disimpulkan bahwa:\n",
        "\n",
        "- Harga Bitcoin diprediksi mengalami penurunan bertahap dalam 7 hari ke depan setelah puncaknya pada pertengahan Mei 2025.\n",
        "- Tren historis 100 hari terakhir menunjukkan volatilitas harga yang cukup signifikan, dengan fase penurunan dan kenaikan tajam dalam kurun waktu pendek.\n",
        "- Model dapat menangkap pola musiman dan tren naik-turun dalam harga, dan memproyeksikannya secara realistis untuk masa depan jangka pendek (7 hari).\n",
        "\n",
        "📊 Evaluasi Model\n",
        "-----------------\n",
        "Model dievaluasi menggunakan tiga metrik utama:\n",
        "\n",
        "- MAE  : 2.322,14\n",
        "- RMSE : 3.452,64\n",
        "- R²   : 0.98\n",
        "\n",
        "Interpretasi:\n",
        "- MAE menunjukkan rata-rata kesalahan prediksi terhadap nilai aktual. Nilai ini tergolong kecil.\n",
        "- RMSE sedikit lebih besar karena penalti terhadap kesalahan besar, namun masih dalam batas wajar.\n",
        "- R² sebesar 0.98 mengindikasikan bahwa model mampu menjelaskan 98% variasi pada data target, yang menunjukkan performa prediksi yang sangat baik.\n",
        "\n",
        "✅ Kesimpulan Akhir\n",
        "-------------------\n",
        "Model LSTM yang digunakan memiliki performa yang sangat baik dalam memprediksi harga penutupan Bitcoin selama 7 hari ke depan. Dengan nilai R² sebesar 0.98 dan error yang rendah, model ini mampu memberikan prediksi yang cukup akurat.\n",
        "\n",
        "Namun demikian, perlu diingat bahwa pasar kripto sangat volatil dan sensitif terhadap berbagai faktor eksternal. Maka dari itu, hasil prediksi ini sebaiknya digunakan sebagai referensi tambahan, bukan sebagai dasar utama dalam pengambilan keputusan investasi.\n"
      ],
      "metadata": {
        "id": "JZE8d-QEKCvD"
      }
    }
  ]
}